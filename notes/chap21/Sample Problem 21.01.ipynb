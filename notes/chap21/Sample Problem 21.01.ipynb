{
 "cells": [
  {
   "cell_type": "code",
   "execution_count": 64,
   "metadata": {},
   "outputs": [],
   "source": [
    "import numpy as np\n",
    "from astropy import units as u\n",
    "from astropy.constants import eps0\n",
    "from math import pi, sin, cos, atan, degrees, radians"
   ]
  },
  {
   "cell_type": "code",
   "execution_count": 65,
   "metadata": {
    "scrolled": true
   },
   "outputs": [
    {
     "data": {
      "text/latex": [
       "$-1.1504066 \\times 10^{-24} \\; \\mathrm{N}$"
      ],
      "text/plain": [
       "<Quantity -1.15040663e-24 N>"
      ]
     },
     "execution_count": 65,
     "metadata": {},
     "output_type": "execute_result"
    }
   ],
   "source": [
    "# Part a\n",
    "q_1 = 1.60E-19 * u.C\n",
    "q_2 = 3.20E-19 * u.C\n",
    "R = 0.0200 * u.m\n",
    "\n",
    "#print(q_1) # Print string\n",
    "#q_1 # Pretty-print string\n",
    "\n",
    "F_12 = (-1)*1/(4*pi*eps0) * abs(q_1)*abs(q_2)/R**2\n",
    "#F.unit.compose()\n",
    "# How do we simplify this?\n",
    "# Following is an ugly hack\n",
    "F_12.base * F_12.unit.compose()[0]"
   ]
  },
  {
   "cell_type": "code",
   "execution_count": 66,
   "metadata": {
    "scrolled": true
   },
   "outputs": [
    {
     "data": {
      "text/latex": [
       "$8.9476071 \\times 10^{-25} \\; \\mathrm{N}$"
      ],
      "text/plain": [
       "<Quantity 8.94760712e-25 N>"
      ]
     },
     "execution_count": 66,
     "metadata": {},
     "output_type": "execute_result"
    }
   ],
   "source": [
    "# Part b\n",
    "q_1 = 1.60E-19 * u.C\n",
    "q_2 = 3.20E-19 * u.C\n",
    "q_3 = -3.20E-19 * u.C\n",
    "R_12 = 0.0200 * u.m\n",
    "R_13 = R_12 * 0.75\n",
    "\n",
    "#print(q_1) # Print string\n",
    "#q_1 # Pretty-print string\n",
    "\n",
    "F_12 = (-1)*1/(4*pi*eps0) * abs(q_1)*abs(q_2)/R_12**2\n",
    "F_13 = 1/(4*pi*eps0) * abs(q_1)*abs(q_3)/R_13**2\n",
    "#F.unit.compose()\n",
    "# How do we simplify this?\n",
    "# Following is an ugly hack\n",
    "#F_12.base * F_12.unit.compose()[0]\n",
    "\n",
    "F_1net = F_12 + F_13\n",
    "#F_1net\n",
    "F_1net.base * F_1net.unit.compose()[0]"
   ]
  },
  {
   "cell_type": "code",
   "execution_count": 67,
   "metadata": {
    "scrolled": true
   },
   "outputs": [
    {
     "data": {
      "text/latex": [
       "$[-1.2782296 \\times 10^{-25},~1.7711669 \\times 10^{-24}] \\; \\mathrm{N}$"
      ],
      "text/plain": [
       "<Quantity [-1.27822959e-25,  1.77116687e-24] N>"
      ]
     },
     "execution_count": 67,
     "metadata": {},
     "output_type": "execute_result"
    }
   ],
   "source": [
    "# Part c \n",
    "q_1 = 1.60E-19 * u.C\n",
    "q_2 = 3.20E-19 * u.C\n",
    "q_4 = -3.20E-19 * u.C\n",
    "R_12 = 0.0200 * u.m\n",
    "R_14 = R_12 * 0.75\n",
    "\n",
    "#print(q_1) # Print string\n",
    "#q_1 # Pretty-print string\n",
    "\n",
    "F_12 = 1/(4*pi*eps0) * abs(q_1)*abs(q_2)/R_12**2\n",
    "F_14 = 1/(4*pi*eps0) * abs(q_1)*abs(q_4)/R_14**2\n",
    "\n",
    "# Check rounding error\n",
    "#F_12 = 1.15e-24 * u.N\n",
    "#F_14 = 2.05e-24 * u.N\n",
    "\n",
    "# Create vectors\n",
    "# Uggh, kludge factory. I hope this isn't the *right* way to do this\n",
    "vF_12 = np.array([-F_12.base,0]) << F_12.unit.compose()[0]\n",
    "vF_14 = np.array([cos(radians(60))*F_14.base,sin(radians(60))*F_14.base]) << F_14.unit.compose()[0]\n",
    "vF_1net = np.add(vF_12, vF_14)\n",
    "vF_1net\n",
    "#vF_1net.base * vF_1net.unit.compose()[0]"
   ]
  },
  {
   "cell_type": "code",
   "execution_count": 68,
   "metadata": {},
   "outputs": [
    {
     "data": {
      "text/latex": [
       "$94.12781 \\; \\mathrm{{}^{\\circ}}$"
      ],
      "text/plain": [
       "<Quantity 94.1278103 deg>"
      ]
     },
     "execution_count": 68,
     "metadata": {},
     "output_type": "execute_result"
    }
   ],
   "source": [
    "# Part c\n",
    "# Calculate angle of force\n",
    "theta = (degrees(atan(vF_1net[1]/vF_1net[0])) + 180) * u.deg\n",
    "theta"
   ]
  },
  {
   "cell_type": "code",
   "execution_count": null,
   "metadata": {},
   "outputs": [],
   "source": []
  }
 ],
 "metadata": {
  "kernelspec": {
   "display_name": "Python 3",
   "language": "python",
   "name": "python3"
  },
  "language_info": {
   "codemirror_mode": {
    "name": "ipython",
    "version": 3
   },
   "file_extension": ".py",
   "mimetype": "text/x-python",
   "name": "python",
   "nbconvert_exporter": "python",
   "pygments_lexer": "ipython3",
   "version": "3.6.9"
  }
 },
 "nbformat": 4,
 "nbformat_minor": 4
}
