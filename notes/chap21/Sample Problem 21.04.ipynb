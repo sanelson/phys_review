{
 "cells": [
  {
   "cell_type": "markdown",
   "metadata": {},
   "source": [
    "# Sample Problem 21.04\n",
    "\n",
    "The nucleus in an iron atom has a radius of about $4.0 \\times 10^{-15} \\mathrm{m}$ and contains 26 protons.\n",
    "\n",
    "(a) What is the magnitude of the repulsive electrostatic force between two of the protons that are separated by $4.0 \\times 10^{-15} \\mathrm{m}$?"
   ]
  },
  {
   "cell_type": "code",
   "execution_count": 71,
   "metadata": {},
   "outputs": [],
   "source": [
    "import numpy as np\n",
    "from astropy import units as u\n",
    "from astropy.constants import eps0, m_p, G\n",
    "from math import pi, sin, cos, atan, degrees, radians"
   ]
  },
  {
   "cell_type": "code",
   "execution_count": 72,
   "metadata": {
    "scrolled": true
   },
   "outputs": [
    {
     "data": {
      "text/latex": [
       "$14.380083 \\; \\mathrm{N}$"
      ],
      "text/plain": [
       "<Quantity 14.38008287 N>"
      ]
     },
     "execution_count": 72,
     "metadata": {},
     "output_type": "execute_result"
    }
   ],
   "source": [
    "# Part a\n",
    "q_1 = 1.60E-19 * u.C\n",
    "R = 4e-15 * u.m\n",
    "\n",
    "F = 1/(4*pi*eps0) * abs(q_1**2)/R**2\n",
    "#F.unit.compose()\n",
    "# How do we simplify this?\n",
    "# Following is an ugly hack\n",
    "F.base * F.unit.compose()[0]"
   ]
  },
  {
   "cell_type": "markdown",
   "metadata": {},
   "source": [
    "(b) What is the magnitude of the gravitational force between those same two protons?"
   ]
  },
  {
   "cell_type": "code",
   "execution_count": 75,
   "metadata": {},
   "outputs": [
    {
     "data": {
      "text/latex": [
       "$1.1670281 \\times 10^{-35} \\; \\mathrm{N}$"
      ],
      "text/plain": [
       "<Quantity 1.16702809e-35 N>"
      ]
     },
     "execution_count": 75,
     "metadata": {},
     "output_type": "execute_result"
    }
   ],
   "source": [
    "# Part b\n",
    "#m_p = 1.67e-27 * u.kg\n",
    "\n",
    "F_g = G*m_p**2/R**2\n",
    "F_g.base * F_g.unit.compose()[0]"
   ]
  },
  {
   "cell_type": "code",
   "execution_count": null,
   "metadata": {},
   "outputs": [],
   "source": []
  }
 ],
 "metadata": {
  "kernelspec": {
   "display_name": "Python 3",
   "language": "python",
   "name": "python3"
  },
  "language_info": {
   "codemirror_mode": {
    "name": "ipython",
    "version": 3
   },
   "file_extension": ".py",
   "mimetype": "text/x-python",
   "name": "python",
   "nbconvert_exporter": "python",
   "pygments_lexer": "ipython3",
   "version": "3.6.9"
  }
 },
 "nbformat": 4,
 "nbformat_minor": 4
}
